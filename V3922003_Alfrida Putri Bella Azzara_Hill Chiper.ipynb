{
 "cells": [
  {
   "cell_type": "code",
   "execution_count": 24,
   "id": "ebda64e6-5efa-400d-8448-0e119b627fda",
   "metadata": {},
   "outputs": [
    {
     "name": "stdin",
     "output_type": "stream",
     "text": [
      "Masukkan plaintext:  HAVE FUN STUDYING CRYPTOGRAPHY\n"
     ]
    },
    {
     "name": "stdout",
     "output_type": "stream",
     "text": [
      "Plaintext: HAVE FUN STUDYING CRYPTOGRAPHY\n",
      "Ciphertext: BAHZMPHGDXUJRYBVINTHOFEDPTQ\n"
     ]
    }
   ],
   "source": [
    "import numpy as np\n",
    "\n",
    "# Fungsi untuk mengonversi teks menjadi matriks angka\n",
    "def text_to_matrix(text):\n",
    "    matrix = []\n",
    "    for char in text:\n",
    "        if char.isalpha():\n",
    "            matrix.append(ord(char.upper()) - ord('A'))\n",
    "    return matrix\n",
    "\n",
    "# Fungsi untuk mengonversi matriks angka menjadi teks\n",
    "def matrix_to_text(matrix):\n",
    "    text = \"\"\n",
    "    for num in matrix:\n",
    "        text += chr(num % 26 + ord('A'))\n",
    "    return text\n",
    "\n",
    "# Fungsi untuk melakukan enkripsi Hill Cipher\n",
    "def hill_cipher_encrypt(plaintext, key_matrix):\n",
    "    # Konversi plaintext menjadi matriks 3x1\n",
    "    plaintext_matrix = np.array(text_to_matrix(plaintext)).reshape(-1, 3)\n",
    "\n",
    "    # Perkalian matriks dengan kunci\n",
    "    result_matrix = np.dot(key_matrix, plaintext_matrix.T).T\n",
    "\n",
    "    # Modulo 26 untuk mendapatkan hasil enkripsi\n",
    "    result_matrix = result_matrix % 26\n",
    "\n",
    "    # Konversi matriks hasil enkripsi menjadi teks\n",
    "    ciphertext = matrix_to_text(result_matrix.flatten())\n",
    "    return ciphertext\n",
    "\n",
    "# Input plaintext dari pengguna\n",
    "plaintext = input(\"Masukkan plaintext: \")\n",
    "\n",
    "# Kunci matriks 3x3\n",
    "key_matrix = np.array([[0, 11, 5], [17, 8, 3], [15, 1, 4]])\n",
    "\n",
    "# Enkripsi menggunakan Hill Cipher\n",
    "ciphertext = hill_cipher_encrypt(plaintext, key_matrix)\n",
    "\n",
    "# Tampilkan hasil enkripsi\n",
    "print(\"Plaintext:\", plaintext)\n",
    "print(\"Ciphertext:\", ciphertext)\n"
   ]
  },
  {
   "cell_type": "code",
   "execution_count": null,
   "id": "ce368d42-4dfb-4904-ae01-c03325db600d",
   "metadata": {},
   "outputs": [],
   "source": []
  }
 ],
 "metadata": {
  "kernelspec": {
   "display_name": "Python 3 (ipykernel)",
   "language": "python",
   "name": "python3"
  },
  "language_info": {
   "codemirror_mode": {
    "name": "ipython",
    "version": 3
   },
   "file_extension": ".py",
   "mimetype": "text/x-python",
   "name": "python",
   "nbconvert_exporter": "python",
   "pygments_lexer": "ipython3",
   "version": "3.11.5"
  }
 },
 "nbformat": 4,
 "nbformat_minor": 5
}
